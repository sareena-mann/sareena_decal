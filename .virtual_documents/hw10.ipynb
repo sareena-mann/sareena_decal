import numpy as np
import matplotlib.pyplot as plt
import pandas as pd
from scipy.optimize import curve_fit


#PART 1.1
df = pd.read_csv("GlobalLandTemperaturesByState.csv")
df["dt"] = pd.to_datetime(df["dt"])

print("Table filtered to include only the columns for the date, temperature, and state")
dts = df[["dt", "AverageTemperature", "State"]]
dts.head()

print("Table filtered to include years after 2000")
dts = dts[dts["dt"].dt.year > 2000]

print("Table filtered to include certain states")
states = ["Wyoming", "Nebraska", "South Dakota"]
dts = dts[dts["State"].isin(states)]

# Check the final shape
print("Shape of filtered table:", dts.shape)



#PART 1.2
#average temp by date
avg = dts.groupby("dt")["AverageTemperature"].mean().reset_index()
avg.columns = ["Date", "AverageTemperature"]
print(avg.head())


#PART 1.3
#Date on the x axis, average temperature on the y axis.
#Label the axis and give the graph a title
plt.figure(figsize=(12, 6))

avg["Date"] = pd.to_datetime(avg["Date"])

plt.plot(avg["Date"], avg["AverageTemperature"], label="Avg Temp")
plt.xlabel("Date")
plt.ylabel("Average Temperature (°C)")
plt.title("Average Temperature Over Time (Wyoming, Nebraska, South Dakota)")
plt.xticks(rotation=45)
plt.grid(True)
plt.tight_layout()
plt.legend()
plt.show()


#PART 1.4
avg["DateNumeric"] = (avg["Date"] - pd.Timestamp("1970-01-01")) // pd.Timedelta(days=1)

print(avg.head())


#PART 1.5
def sine_model(x, A, B, C, D):
    return A * np.sin(B * (x + C)) + D

x_data = avg["DateNumeric"]
y_data = avg["AverageTemperature"]

period_guess = 100
B_guess = np.pi / period_guess  
A_guess = 15
C_guess = 0
D_guess = np.mean(y_data)
initial_guess = [A_guess, B_guess, C_guess, D_guess]



#PART 1.6 & 1.7

params, covariance = curve_fit(sine_model, x_data, y_data, p0=initial_guess)
A, B, C, D = params

#Fitted sine curve
x_fit = np.linspace(min(x_data), max(x_data), 1000)
y_fit = sine_model(x_fit, *params)

# Plot the original data and the fitted sine curve
plt.figure(figsize=(12, 6))
plt.plot(x_data, y_data, label="Original Data", color="blue")
plt.plot(x_fit, y_fit, label="Fitted Curce", color="red")
plt.xlabel("Date (Numeric)")
plt.ylabel("Average Temperature (°C)")
plt.title("Fitted Sine to Average Temperature (WY, NB, SD)")
plt.legend()
plt.grid(True)
plt.show()




