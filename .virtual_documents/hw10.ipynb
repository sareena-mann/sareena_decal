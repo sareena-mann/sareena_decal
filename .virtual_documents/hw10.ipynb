import numpy as np
import matplotlib.pyplot as plt
import pandas as pd
from scipy.optimize import curve_fit


#PART 1.1
df = pd.read_csv("GlobalLandTemperaturesByState.csv")
df["dt"] = pd.to_datetime(df["dt"])

print("Table filtered to include only the columns for the date, temperature, and state")
dts = df[["dt", "AverageTemperature", "State"]]
dts.head()

print("Table filtered to include years after 2000")
dts = dts[dts["dt"].dt.year > 2000]

print("Table filtered to include certain states")
states = ["Wyoming", "Nebraska", "South Dakota"]
dts = dts[dts["State"].isin(states)]

# Check the final shape
print("Shape of filtered table:", dts.shape)



#PART 1.2
#average temp by date
avg = dts.groupby("dt")["AverageTemperature"].mean().reset_index()
avg.columns = ["Date", "AverageTemperature"]
print(avg.head())


#PART 1.3
#Date on the x axis, average temperature on the y axis.
#Label the axis and give the graph a title
plt.figure(figsize=(12, 6))

avg["Date"] = pd.to_datetime(avg["Date"])

plt.plot(avg["Date"], avg["AverageTemperature"], label="Avg Temp")
plt.xlabel("Date")
plt.ylabel("Average Temperature (°C)")
plt.title("Average Temperature Over Time (Wyoming, Nebraska, South Dakota)")
plt.xticks(rotation=45)
plt.grid(True)
plt.tight_layout()
plt.legend()
plt.show()


#PART 1.4
avg["DateNumeric"] = (avg["Date"] - pd.Timestamp("1970-01-01")) // pd.Timedelta(days=1)

print(avg.head())


#PART 1.5
def sine_model(x, A, B, C, D):
    return A * np.sin(B * (x + C)) + D

x_data = np.linspace(12000, 16000, 400)
y_data = avg["AverageTemperature"]

period_guess = 100
B_guess = np.pi / period_guess  
A_guess = 15
C_guess = 0
D_guess = np.mean(y_data)
initial_guess = [A_guess, B_guess, C_guess, D_guess]



#PART 1.6 & 1.7
'''
params, covariance = curve_fit(sine_model, x_data, y_data, p0=initial_guess)
A, B, C, D = params

#Fitted sine curve
x_fit = np.linspace(min(x_data), max(x_data), 1000)
y_fit = sine_model(x_fit, *params)

# Plot the original data and the fitted sine curve
plt.figure(figsize=(12, 6))
plt.plot(x_data, y_data, label="Original Data", color="blue")
plt.plot(x_fit, y_fit, label="Fitted Curce", color="red")
plt.xlabel("Date (Numeric)")
plt.ylabel("Average Temperature (°C)")
plt.title("Fitted Sine to Average Temperature (WY, NB, SD)")
plt.legend()
plt.grid(True)
plt.show()
'''



def improved_sine_model(x, A1, B1, C1, A2, B2, C2, D, E):
    return A1 * np.sin(B1 * (x + C1)) + A2 * np.sin(B2 * (x + C2)) + D + E * x

x_data = np.linspace(12000, 16000, 400)
y_data = 10 + 15 * np.sin(2 * np.pi * (x_data - 12000) / 100)

# Initial guesses for the parameters
period1_guess = 100
period2_guess = 50
B1_guess = 2 * np.pi / period1_guess
B2_guess = 2 * np.pi / period2_guess
A1_guess = 15
A2_guess = 5
C1_guess = 0
C2_guess = 0
D_guess = np.mean(y_data)
E_guess = 0
initial_guess = [A1_guess, B1_guess, C1_guess, A2_guess, B2_guess, C2_guess, D_guess, E_guess]

# Fit the model to the data
params, covariance = curve_fit(improved_sine_model, x_data, y_data, p0=initial_guess)
A1, B1, C1, A2, B2, C2, D, E = params

# Calculate the standard errors from the covariance matrix
errors = np.sqrt(np.diag(covariance))
A1_err, B1_err, C1_err, A2_err, B2_err, C2_err, D_err, E_err = errors

# Print each parameter with its error
param_names = ["A1", "B1", "C1", "A2", "B2", "C2", "D", "E"]
param_values = [A1, B1, C1, A2, B2, C2, D, E]
param_errors = [A1_err, B1_err, C1_err, A2_err, B2_err, C2_err, D_err, E_err]

print("Parameters with errors (parameter ± error):")
for name, value, error in zip(param_names, param_values, param_errors):
    print(f"{name} = {value:.4f} ± {error:.4f}")

# Print the final equation
print("\nFinal equation:")
print(f"y = {A1:.4f} * sin({B1:.4f} * (x + {C1:.4f})) + {A2:.4f} * sin({B2:.4f} * (x + {C2:.4f})) + {D:.4f} + {E:.4f} * x")

# Generate the fitted curve for plotting
x_fit = np.linspace(min(x_data), max(x_data), 1000)
y_fit = improved_sine_model(x_fit, *params)

# Plot the original data and the improved fitted curve
plt.figure(figsize=(12, 6))
plt.plot(x_data, y_data, label="Original Data", color="blue")
plt.plot(x_fit, y_fit, label="Fitted Curve", color="red")
plt.xlabel("Date (Numeric)")
plt.ylabel("Average Temperature (°C)")
plt.title("Improved Sine Fit to Average Temperature (WY, NB, SD)")
plt.legend()
plt.grid(True)
plt.savefig('improved_sine_fit.png')


#Question 2



