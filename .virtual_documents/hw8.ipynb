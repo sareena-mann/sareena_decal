import numpy as np
import matplotlib.pyplot as plt
import pandas as pd


# PART 1

def make_sine_wave(x, A, w):
    return A * np.sin(w * x)


x = np.linspace(0, 2 * np.pi, 1000)
amplitudes = [0.5, 1, 1.5, 2, 2.5]
freq = [1, 2, 3, 4, 5]
plt.figure(figsize=(10, 5))

zipped = zip(amplitudes, freq)

for A, w in zipped:
    plt.plot(x, make_sine_wave(x, A, w))

plt.title("Varying Sine waves")
plt.xlabel("Frequency")
plt.ylabel("Amplitudes")
plt.grid(True)
plt.legend(['0.5sin(x)', 'sin(2x)', '1.5sin(3x)', '2sin(4x)', '2.5sin(5x)'])

plt.show()


# QUESTION 2
df = pd.read_csv("stars.csv")
print("First 5 rows")
print(df.head())

print("num rows and cols")
print(f"Rows: {df.shape[0]}, Columns: {df.shape[1]}")
print(df.dtypes)

print("Average mass:")
print(df['Mass (M☉)'].mean())

print("Average temp:")
print(df['Temperature (K)'].mean())

print("num of M type stars")
i=0
count = (df['Spectral_Type'].str.startswith('M')).sum()
print(count)
    


# QUESTION 3


import seaborn as sns
peguins = sns.load_dataset("penguins")

fig, axes = plt.subplots(1, 2, figsize=(14, 6))


sns.scatterplot(data=peguins, x="flipper_length_mm", y="bill_length_mm", hue="species", ax=axes[0])
axes[0].set_title("Flipper vs Bill Length")
axes[0].set_xlabel("Flipper Length (mm)")
axes[0].set_ylabel("Bill Length (mm)")
axes[0].legend(title="Species")

# Right plot: Histogram of body mass
sns.histplot(data=peguins, x="body_mass_g", kde=True, ax=axes[1])
axes[1].set_title("Distribution of Body Mass")
axes[1].set_xlabel("Body Mass (g)")
axes[1].set_ylabel("Count")

plt.show()

